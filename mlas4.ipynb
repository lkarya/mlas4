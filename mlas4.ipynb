{
 "cells": [
  {
   "cell_type": "code",
   "execution_count": null,
   "id": "fbfaf050",
   "metadata": {},
   "outputs": [],
   "source": [
    "# What are the key tasks involved in getting ready to work with machine learning modeling?\n",
    "The 7 Key Steps To Build Your Machine Learning Model\n",
    "Step 1: Collect Data.\n",
    "Step 2: Prepare the data.\n",
    "Step 3: Choose the model.\n",
    "Step 4 Train your machine model.\n",
    "Step 5: Evaluation.\n",
    "Step 6: Parameter Tuning.\n",
    "Step 7: Prediction or Inference.\n",
    "    \n",
    "# what are the various histogram shapes what exactly are ‘bins' \n",
    "What is a histogram? A histogram is a chart that plots the distribution of a numeric variable values as a series of bars. \n",
    "Each bar typically covers a range of numeric values called a bin or class a bar height indicates the frequency of data points with a value within the corresponding bin.\n",
    "\n",
    "# How do we deal with data outliers?\n",
    "Set up a filter in your testing tool. Even though this has a little cost, filtering out outliers is worth it.\n",
    "Remove or change outliers during post-test analysis.\n",
    "Change the value of outliers.\n",
    "Consider the underlying distribution.\n",
    "Consider the value of mild outliers.\n",
    "\n",
    "# What are the various central inclination measures? Why does mean vary too much from median in certain data sets?\n",
    "In statistics, the three most common measures of central tendency are the mean, median, and mode. \n",
    "\n",
    "# Describe how cross-tabs can be used to figure out how two variables are related.\n",
    "Cross tabulation is a method to quantitatively analyze the relationship between multiple variables. \n",
    "Also known as contingency tables or cross tabs, cross tabulation groups variables to understand the correlation between different variables."
   ]
  }
 ],
 "metadata": {
  "kernelspec": {
   "display_name": "Python 3 (ipykernel)",
   "language": "python",
   "name": "python3"
  },
  "language_info": {
   "codemirror_mode": {
    "name": "ipython",
    "version": 3
   },
   "file_extension": ".py",
   "mimetype": "text/x-python",
   "name": "python",
   "nbconvert_exporter": "python",
   "pygments_lexer": "ipython3",
   "version": "3.9.7"
  }
 },
 "nbformat": 4,
 "nbformat_minor": 5
}
